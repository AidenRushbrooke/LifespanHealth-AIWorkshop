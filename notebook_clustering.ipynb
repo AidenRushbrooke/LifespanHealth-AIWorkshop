{
 "cells": [
  {
   "cell_type": "markdown",
   "id": "216496dc",
   "metadata": {},
   "source": [
    "# 🧠 Symptom Clustering with UMAP + HDBSCAN\n",
    "Welcome to the Lifespan Health AI Workshop notebook!\n",
    "\n",
    "In this notebook, you'll explore synthetic Long Covid symptom data using unsupervised machine learning.\n",
    "We'll use UMAP for dimensionality reduction and HDBSCAN for clustering."
   ]
  },
  {
   "cell_type": "code",
   "execution_count": null,
   "id": "0fed387b",
   "metadata": {},
   "outputs": [],
   "source": [
    "import pandas as pd\n",
    "import umap\n",
    "import hdbscan\n",
    "import matplotlib.pyplot as plt\n",
    "import seaborn as sns\n",
    "\n",
    "# For consistent plots\n",
    "sns.set(style='whitegrid')"
   ]
  },
  {
   "cell_type": "markdown",
   "id": "6cb69de6",
   "metadata": {},
   "source": [
    "## 📥 Step 1: Load the dataset"
   ]
  },
  {
   "cell_type": "code",
   "execution_count": null,
   "id": "b2137ffd",
   "metadata": {},
   "outputs": [],
   "source": [
    "# Load the dataset (change the file name if needed)\n",
    "df = pd.read_csv('synthetic_dataset_1.csv')\n",
    "\n",
    "# Optional: view first few rows\n",
    "df.head()"
   ]
  },
  {
   "cell_type": "markdown",
   "id": "5e92024c",
   "metadata": {},
   "source": [
    "## 🔧 Step 2: Prepare the data for clustering"
   ]
  },
  {
   "cell_type": "code",
   "execution_count": null,
   "id": "db3c8f51",
   "metadata": {},
   "outputs": [],
   "source": [
    "# Drop non-numeric columns (PatientID, TrueCluster)\n",
    "X = df.drop(columns=['PatientID', 'TrueCluster'])"
   ]
  },
  {
   "cell_type": "markdown",
   "id": "16bc2d5b",
   "metadata": {},
   "source": [
    "## 📍 Step 3: Run UMAP for dimensionality reduction"
   ]
  },
  {
   "cell_type": "code",
   "execution_count": null,
   "id": "e70c7eb8",
   "metadata": {},
   "outputs": [],
   "source": [
    "reducer = umap.UMAP(random_state=42)\n",
    "embedding = reducer.fit_transform(X)"
   ]
  },
  {
   "cell_type": "markdown",
   "id": "811b8bfc",
   "metadata": {},
   "source": [
    "## 📍 Step 4: Apply HDBSCAN for clustering"
   ]
  },
  {
   "cell_type": "code",
   "execution_count": null,
   "id": "a6eccbcc",
   "metadata": {},
   "outputs": [],
   "source": [
    "clusterer = hdbscan.HDBSCAN(min_cluster_size=20)\n",
    "labels = clusterer.fit_predict(embedding)"
   ]
  },
  {
   "cell_type": "markdown",
   "id": "39353b56",
   "metadata": {},
   "source": [
    "## 📊 Step 5: Visualise the clusters"
   ]
  },
  {
   "cell_type": "code",
   "execution_count": null,
   "id": "f26ba7f0",
   "metadata": {},
   "outputs": [],
   "source": [
    "# Create DataFrame with results\n",
    "results = pd.DataFrame(embedding, columns=['UMAP1', 'UMAP2'])\n",
    "results['Cluster'] = labels\n",
    "\n",
    "# Plot\n",
    "plt.figure(figsize=(10, 8))\n",
    "palette = sns.color_palette('Spectral', n_colors=len(set(labels)) - (1 if -1 in labels else 0))\n",
    "sns.scatterplot(data=results, x='UMAP1', y='UMAP2', hue='Cluster', palette=palette, s=40)\n",
    "plt.title('Symptom Clusters Identified by HDBSCAN')\n",
    "plt.legend(title='Cluster')\n",
    "plt.show()"
   ]
  },
  {
   "cell_type": "markdown",
   "id": "5c406b22",
   "metadata": {},
   "source": [
    "## 🧪 Step 6 (Optional): Compare with true cluster labels"
   ]
  },
  {
   "cell_type": "code",
   "execution_count": null,
   "id": "0840a666",
   "metadata": {},
   "outputs": [],
   "source": [
    "results['TrueCluster'] = df['TrueCluster']\n",
    "sns.countplot(data=results, x='TrueCluster', hue='Cluster')\n",
    "plt.title('True Cluster vs. HDBSCAN Labels')\n",
    "plt.xticks(rotation=45)\n",
    "plt.tight_layout()\n",
    "plt.show()"
   ]
  }
 ],
 "metadata": {},
 "nbformat": 4,
 "nbformat_minor": 5
}